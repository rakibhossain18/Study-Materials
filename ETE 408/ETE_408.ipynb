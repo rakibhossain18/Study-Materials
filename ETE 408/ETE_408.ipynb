{
  "cells": [
    {
      "cell_type": "markdown",
      "id": "48fb0db2",
      "metadata": {
        "id": "48fb0db2"
      },
      "source": [
        "# Experiment-1"
      ]
    },
    {
      "cell_type": "code",
      "execution_count": 1,
      "id": "1e0bec01",
      "metadata": {
        "id": "1e0bec01",
        "outputId": "b479a813-ec7e-449b-9d5a-5642a5008b23",
        "colab": {
          "base_uri": "https://localhost:8080/"
        }
      },
      "outputs": [
        {
          "output_type": "stream",
          "name": "stdout",
          "text": [
            "Hello World\n"
          ]
        }
      ],
      "source": [
        "print('Hello World')"
      ]
    },
    {
      "cell_type": "code",
      "execution_count": null,
      "id": "facb65f5",
      "metadata": {
        "id": "facb65f5"
      },
      "outputs": [],
      "source": []
    },
    {
      "cell_type": "code",
      "execution_count": null,
      "id": "d8e9a140",
      "metadata": {
        "id": "d8e9a140"
      },
      "outputs": [],
      "source": []
    },
    {
      "cell_type": "code",
      "execution_count": null,
      "id": "9014d14a",
      "metadata": {
        "id": "9014d14a"
      },
      "outputs": [],
      "source": []
    },
    {
      "cell_type": "code",
      "execution_count": null,
      "id": "c188653c",
      "metadata": {
        "id": "c188653c"
      },
      "outputs": [],
      "source": []
    },
    {
      "cell_type": "code",
      "execution_count": null,
      "id": "0b912bf6",
      "metadata": {
        "id": "0b912bf6"
      },
      "outputs": [],
      "source": []
    },
    {
      "cell_type": "code",
      "execution_count": null,
      "id": "3bd07a12",
      "metadata": {
        "id": "3bd07a12"
      },
      "outputs": [],
      "source": []
    },
    {
      "cell_type": "code",
      "execution_count": null,
      "id": "ad6c0656",
      "metadata": {
        "id": "ad6c0656"
      },
      "outputs": [],
      "source": []
    },
    {
      "cell_type": "code",
      "execution_count": null,
      "id": "a7227c33",
      "metadata": {
        "id": "a7227c33"
      },
      "outputs": [],
      "source": []
    },
    {
      "cell_type": "code",
      "execution_count": null,
      "id": "65a0136a",
      "metadata": {
        "id": "65a0136a"
      },
      "outputs": [],
      "source": []
    },
    {
      "cell_type": "code",
      "execution_count": null,
      "id": "85ac9e0c",
      "metadata": {
        "id": "85ac9e0c"
      },
      "outputs": [],
      "source": []
    },
    {
      "cell_type": "markdown",
      "id": "b8adb852",
      "metadata": {
        "id": "b8adb852"
      },
      "source": [
        "## Practice Exercise of Experiment-1"
      ]
    },
    {
      "cell_type": "markdown",
      "id": "ffc19f69",
      "metadata": {
        "id": "ffc19f69"
      },
      "source": [
        "### Exercise 1"
      ]
    },
    {
      "cell_type": "code",
      "execution_count": null,
      "id": "e3074dea",
      "metadata": {
        "id": "e3074dea"
      },
      "outputs": [],
      "source": [
        "h = float(input(\"Enter Height:\"))\n",
        "r = float(input(\"Enter radius:\"))\n",
        "print(\"volume = \", h*3.1416*r*r)\n",
        "print(\"area= \", (2*3.1416*r*r) + (h*2*3.1416*r))"
      ]
    },
    {
      "cell_type": "markdown",
      "source": [
        "*** End of Experiment-1 ***"
      ],
      "metadata": {
        "id": "W0tTuNHeuYSt"
      },
      "id": "W0tTuNHeuYSt"
    },
    {
      "cell_type": "markdown",
      "id": "7caea572",
      "metadata": {
        "id": "7caea572"
      },
      "source": [
        "# Experiment-2"
      ]
    },
    {
      "cell_type": "markdown",
      "id": "e847f8ee",
      "metadata": {
        "id": "e847f8ee"
      },
      "source": [
        "## Example 1: Boolean expressions"
      ]
    },
    {
      "cell_type": "code",
      "execution_count": null,
      "id": "67b58380",
      "metadata": {
        "id": "67b58380",
        "outputId": "48ab29cd-f822-4e15-de56-4649d655b9ea"
      },
      "outputs": [
        {
          "name": "stdout",
          "output_type": "stream",
          "text": [
            "True\n",
            "False\n",
            "<class 'bool'>\n",
            "<class 'bool'>\n"
          ]
        }
      ],
      "source": [
        "print(5 == 5)\n",
        "print(5 == 6)\n",
        "print(type(True))\n",
        "print(type(False))"
      ]
    },
    {
      "cell_type": "markdown",
      "id": "46ca9379",
      "metadata": {
        "id": "46ca9379"
      },
      "source": [
        "##  Example 2: Comparison operators"
      ]
    },
    {
      "cell_type": "code",
      "execution_count": null,
      "id": "b9eba22b",
      "metadata": {
        "id": "b9eba22b",
        "outputId": "4e17c122-ae15-40fd-cf97-2f0f15f32ce5"
      },
      "outputs": [
        {
          "name": "stdout",
          "output_type": "stream",
          "text": [
            "x > y is False\n",
            "x < y is True\n",
            "x == y is False\n",
            "x != y is True\n",
            "x >= y is False\n",
            "x <= y is True\n",
            "False\n",
            "True\n"
          ]
        }
      ],
      "source": [
        "x = 10\n",
        "y = 12\n",
        "print('x > y is',x>y)\n",
        "print('x < y is',x<y)\n",
        "print('x == y is',x==y)\n",
        "print('x != y is',x!=y)\n",
        "print('x >= y is',x>=y)\n",
        "print('x <= y is',x<=y)\n",
        "print(x is y)\n",
        "print(x is not y)"
      ]
    },
    {
      "cell_type": "markdown",
      "id": "f0a2c644",
      "metadata": {
        "id": "f0a2c644"
      },
      "source": [
        "## Example 3: Logical operators"
      ]
    },
    {
      "cell_type": "code",
      "execution_count": null,
      "id": "5cb28415",
      "metadata": {
        "id": "5cb28415",
        "outputId": "7f383e9e-58db-46ce-8c25-6f94c2b05f6f"
      },
      "outputs": [
        {
          "name": "stdout",
          "output_type": "stream",
          "text": [
            "x and y is False\n",
            "x or y is True\n",
            "not x is False\n"
          ]
        }
      ],
      "source": [
        "x = True\n",
        "y = False\n",
        "print('x and y is',x and y)\n",
        "print('x or y is',x or y)\n",
        "print('not x is',not x)"
      ]
    },
    {
      "cell_type": "markdown",
      "id": "a2bab141",
      "metadata": {
        "id": "a2bab141"
      },
      "source": [
        "## Example 4: Identity operators"
      ]
    },
    {
      "cell_type": "code",
      "execution_count": null,
      "id": "a398d732",
      "metadata": {
        "id": "a398d732",
        "outputId": "19cba6a3-b6c8-48b0-d240-b7d301b6b3df"
      },
      "outputs": [
        {
          "name": "stdout",
          "output_type": "stream",
          "text": [
            "False\n",
            "True\n"
          ]
        }
      ],
      "source": [
        "x1 = 5\n",
        "y1 = 5\n",
        "x2 = 'Hello'\n",
        "y2 = 'Hello'\n",
        "# Output: False\n",
        "print(x1 is not y1)\n",
        "# Output: True\n",
        "print(x2 is y2)"
      ]
    },
    {
      "cell_type": "markdown",
      "id": "34f0d5f0",
      "metadata": {
        "id": "34f0d5f0"
      },
      "source": [
        "## Example 5: Membership operators"
      ]
    },
    {
      "cell_type": "code",
      "execution_count": null,
      "id": "2357fa9c",
      "metadata": {
        "id": "2357fa9c",
        "outputId": "0afda932-af0f-4251-9a06-12bfb37b852a"
      },
      "outputs": [
        {
          "name": "stdout",
          "output_type": "stream",
          "text": [
            "True\n",
            "True\n"
          ]
        }
      ],
      "source": [
        "x = 'Hello world'\n",
        "# Output: True\n",
        "print('H' in x)\n",
        "# Output: True\n",
        "print('hello' not in x)"
      ]
    },
    {
      "cell_type": "markdown",
      "id": "f0708b3e",
      "metadata": {
        "id": "f0708b3e"
      },
      "source": [
        "## Example 6: Conditional execution"
      ]
    },
    {
      "cell_type": "code",
      "execution_count": null,
      "id": "cba3ad92",
      "metadata": {
        "id": "cba3ad92",
        "outputId": "68620254-efe2-483d-e569-8da4ed3a082b"
      },
      "outputs": [
        {
          "name": "stdout",
          "output_type": "stream",
          "text": [
            "x is even\n"
          ]
        }
      ],
      "source": [
        "x = 10\n",
        "if x%2 == 0:\n",
        "    print('x is even')\n",
        "else :\n",
        "    print('x is odd')"
      ]
    },
    {
      "cell_type": "markdown",
      "id": "17aa100f",
      "metadata": {
        "id": "17aa100f"
      },
      "source": [
        "## Example 7: Chained conditionals"
      ]
    },
    {
      "cell_type": "code",
      "execution_count": null,
      "id": "6452e30c",
      "metadata": {
        "id": "6452e30c",
        "outputId": "bbf85278-bfb5-4547-87bb-dd977820b06e"
      },
      "outputs": [
        {
          "ename": "SyntaxError",
          "evalue": "EOL while scanning string literal (3741776437.py, line 16)",
          "output_type": "error",
          "traceback": [
            "\u001b[1;36m  File \u001b[1;32m\"C:\\Users\\rakib\\AppData\\Local\\Temp\\ipykernel_16844\\3741776437.py\"\u001b[1;36m, line \u001b[1;32m16\u001b[0m\n\u001b[1;33m    print('Close, but not correct’)\u001b[0m\n\u001b[1;37m                                   ^\u001b[0m\n\u001b[1;31mSyntaxError\u001b[0m\u001b[1;31m:\u001b[0m EOL while scanning string literal\n"
          ]
        }
      ],
      "source": [
        "x = 10\n",
        "y = 15\n",
        "if x < y:\n",
        "    print('x is less than y')\n",
        "elif x > y:\n",
        "    print('x is greater than y')\n",
        "else:\n",
        "    print('x and y are equal')\n",
        "    \n",
        "choice = input(\"Enter your Choice: \")\n",
        "if choice == 'a':\n",
        "    print('Bad guess')\n",
        "elif choice == 'b':\n",
        "    print('Good guess')\n",
        "elif choice == 'c':\n",
        "    print('Close, but not correct’)"
      ]
    },
    {
      "cell_type": "markdown",
      "id": "3759c56c",
      "metadata": {
        "id": "3759c56c"
      },
      "source": [
        "## Example 8: Nested conditionals"
      ]
    },
    {
      "cell_type": "code",
      "execution_count": null,
      "id": "7e36bb21",
      "metadata": {
        "id": "7e36bb21",
        "outputId": "386e7ee8-f5b3-4ab4-d0f1-c16189244881"
      },
      "outputs": [
        {
          "name": "stdout",
          "output_type": "stream",
          "text": [
            "x is less than y\n"
          ]
        }
      ],
      "source": [
        "if x == y:\n",
        "    print('x and y are equal')\n",
        "else:\n",
        "    if x < y:\n",
        "        print('x is less than y')\n",
        "    else:\n",
        "        print('x is greater than y')"
      ]
    },
    {
      "cell_type": "code",
      "execution_count": null,
      "id": "b9437cba",
      "metadata": {
        "id": "b9437cba"
      },
      "outputs": [],
      "source": []
    },
    {
      "cell_type": "code",
      "execution_count": null,
      "id": "14466b06",
      "metadata": {
        "id": "14466b06"
      },
      "outputs": [],
      "source": []
    },
    {
      "cell_type": "code",
      "execution_count": null,
      "id": "fe9e85df",
      "metadata": {
        "id": "fe9e85df"
      },
      "outputs": [],
      "source": []
    },
    {
      "cell_type": "code",
      "execution_count": null,
      "id": "c6107606",
      "metadata": {
        "id": "c6107606"
      },
      "outputs": [],
      "source": []
    },
    {
      "cell_type": "code",
      "execution_count": null,
      "id": "584c1328",
      "metadata": {
        "id": "584c1328"
      },
      "outputs": [],
      "source": []
    },
    {
      "cell_type": "code",
      "execution_count": null,
      "id": "fecce3ee",
      "metadata": {
        "id": "fecce3ee"
      },
      "outputs": [],
      "source": []
    },
    {
      "cell_type": "code",
      "execution_count": null,
      "id": "15c95faa",
      "metadata": {
        "id": "15c95faa"
      },
      "outputs": [],
      "source": []
    },
    {
      "cell_type": "code",
      "execution_count": null,
      "id": "32010984",
      "metadata": {
        "id": "32010984"
      },
      "outputs": [],
      "source": []
    },
    {
      "cell_type": "markdown",
      "id": "08977e3a",
      "metadata": {
        "id": "08977e3a"
      },
      "source": []
    },
    {
      "cell_type": "code",
      "execution_count": null,
      "id": "f0a69afa",
      "metadata": {
        "id": "f0a69afa"
      },
      "outputs": [],
      "source": []
    },
    {
      "cell_type": "markdown",
      "id": "bfe1b9b6",
      "metadata": {
        "id": "bfe1b9b6"
      },
      "source": [
        "## Practice Exercise for Experiment_2"
      ]
    },
    {
      "cell_type": "markdown",
      "id": "fab72416",
      "metadata": {
        "id": "fab72416"
      },
      "source": [
        "### Exercise 1"
      ]
    },
    {
      "cell_type": "code",
      "execution_count": null,
      "id": "a6518983",
      "metadata": {
        "id": "a6518983",
        "outputId": "4fd16764-50aa-424e-c5da-77be0f2f110f"
      },
      "outputs": [
        {
          "name": "stdout",
          "output_type": "stream",
          "text": [
            "Enter a number: -3\n",
            "Number is negative\n"
          ]
        }
      ],
      "source": [
        "n = int(input(\"Enter a number: \"))\n",
        "if(n > 0):\n",
        "    print(\"Number is positive\")\n",
        "elif(n < 0):\n",
        "    print(\"Number is negative\")\n",
        "else:\n",
        "    print(\"Number is zero\")"
      ]
    },
    {
      "cell_type": "code",
      "execution_count": null,
      "id": "ec153c0c",
      "metadata": {
        "id": "ec153c0c"
      },
      "outputs": [],
      "source": []
    },
    {
      "cell_type": "code",
      "execution_count": null,
      "id": "d36051c0",
      "metadata": {
        "id": "d36051c0"
      },
      "outputs": [],
      "source": []
    },
    {
      "cell_type": "code",
      "execution_count": null,
      "id": "2aa8ec6b",
      "metadata": {
        "id": "2aa8ec6b"
      },
      "outputs": [],
      "source": []
    },
    {
      "cell_type": "code",
      "execution_count": null,
      "id": "51a22b0d",
      "metadata": {
        "id": "51a22b0d"
      },
      "outputs": [],
      "source": []
    },
    {
      "cell_type": "markdown",
      "id": "bb36a243",
      "metadata": {
        "id": "bb36a243"
      },
      "source": [
        "objective\n",
        "problem statement\n",
        "program(print)\n",
        "output\n",
        "Discussion"
      ]
    }
  ],
  "metadata": {
    "kernelspec": {
      "display_name": "Python 3 (ipykernel)",
      "language": "python",
      "name": "python3"
    },
    "language_info": {
      "codemirror_mode": {
        "name": "ipython",
        "version": 3
      },
      "file_extension": ".py",
      "mimetype": "text/x-python",
      "name": "python",
      "nbconvert_exporter": "python",
      "pygments_lexer": "ipython3",
      "version": "3.9.13"
    },
    "colab": {
      "provenance": []
    }
  },
  "nbformat": 4,
  "nbformat_minor": 5
}