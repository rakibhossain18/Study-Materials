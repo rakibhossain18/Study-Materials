{
  "cells": [
    {
      "cell_type": "markdown",
      "id": "48fb0db2",
      "metadata": {
        "id": "48fb0db2"
      },
      "source": [
        "# Experiment-1"
      ]
    },
    {
      "cell_type": "code",
      "execution_count": null,
      "id": "1e0bec01",
      "metadata": {
        "id": "1e0bec01",
        "outputId": "bd0226e8-4d68-4f03-eeb6-c41517fd686b",
        "colab": {
          "base_uri": "https://localhost:8080/"
        }
      },
      "outputs": [
        {
          "output_type": "stream",
          "name": "stdout",
          "text": [
            "<class 'str'>\n",
            "<class 'int'>\n",
            "<class 'float'>\n"
          ]
        }
      ],
      "source": [
        "print(type('Hello, World!'))\n",
        "print(type(17))\n",
        "print(type(3.2))"
      ]
    },
    {
      "cell_type": "code",
      "execution_count": null,
      "id": "facb65f5",
      "metadata": {
        "id": "facb65f5"
      },
      "outputs": [],
      "source": [
        "number = 10\n",
        "number = 1.1\n",
        "message = 'And now for something completely different'\n",
        "n = 17\n",
        "pi = 3.1415926535897931"
      ]
    },
    {
      "cell_type": "code",
      "execution_count": null,
      "id": "d8e9a140",
      "metadata": {
        "id": "d8e9a140",
        "outputId": "8ca640e1-dc3a-4931-f1ea-439e7331134f",
        "colab": {
          "base_uri": "https://localhost:8080/"
        }
      },
      "outputs": [
        {
          "output_type": "stream",
          "name": "stdout",
          "text": [
            "17\n",
            "3.141592653589793\n"
          ]
        }
      ],
      "source": [
        "print(n)\n",
        "print(pi)"
      ]
    },
    {
      "cell_type": "code",
      "execution_count": null,
      "id": "9014d14a",
      "metadata": {
        "id": "9014d14a",
        "outputId": "56fa2c09-d5c8-4943-de6c-7b4653844350",
        "colab": {
          "base_uri": "https://localhost:8080/"
        }
      },
      "outputs": [
        {
          "output_type": "stream",
          "name": "stdout",
          "text": [
            "5\n",
            "3.2\n",
            "Hello\n"
          ]
        }
      ],
      "source": [
        "a, b, c = 5, 3.2, \"Hello\"\n",
        "print (a)\n",
        "print (b)\n",
        "print (c)"
      ]
    },
    {
      "cell_type": "code",
      "execution_count": null,
      "id": "c188653c",
      "metadata": {
        "id": "c188653c",
        "outputId": "4f93c547-fb84-4b80-8e38-06229880164a",
        "colab": {
          "base_uri": "https://localhost:8080/"
        }
      },
      "outputs": [
        {
          "output_type": "stream",
          "name": "stdout",
          "text": [
            "same\n",
            "same\n",
            "same\n"
          ]
        }
      ],
      "source": [
        "x = y = z = \"same\"\n",
        "print (x)\n",
        "print (y)\n",
        "print (z)"
      ]
    },
    {
      "cell_type": "code",
      "execution_count": null,
      "id": "0b912bf6",
      "metadata": {
        "id": "0b912bf6"
      },
      "outputs": [],
      "source": [
        "# 76trombones = 'big parade'\n",
        "# more@ = 1000000\n",
        "# class = 'Advanced Theoretical Zymurgy'"
      ]
    },
    {
      "cell_type": "code",
      "execution_count": null,
      "id": "3bd07a12",
      "metadata": {
        "id": "3bd07a12",
        "outputId": "072666ac-d33e-4b61-9031-48bac1c9f398",
        "colab": {
          "base_uri": "https://localhost:8080/"
        }
      },
      "outputs": [
        {
          "output_type": "stream",
          "name": "stdout",
          "text": [
            "datatype of num_int: <class 'int'>\n",
            "datatype of num_flo: <class 'float'>\n",
            "Value of num_new: 124.23\n",
            "datatype of num_new: <class 'float'>\n"
          ]
        }
      ],
      "source": [
        "num_int = 123\n",
        "num_flo = 1.23\n",
        "num_new = num_int + num_flo\n",
        "print(\"datatype of num_int:\",type(num_int))\n",
        "print(\"datatype of num_flo:\",type(num_flo))\n",
        "print(\"Value of num_new:\",num_new)\n",
        "print(\"datatype of num_new:\",type(num_new))"
      ]
    },
    {
      "cell_type": "code",
      "execution_count": null,
      "id": "ad6c0656",
      "metadata": {
        "id": "ad6c0656",
        "outputId": "bade6718-967d-437e-8e04-f3fb7f0013f3",
        "colab": {
          "base_uri": "https://localhost:8080/"
        }
      },
      "outputs": [
        {
          "output_type": "stream",
          "name": "stdout",
          "text": [
            "Data type of num_int: <class 'int'>\n",
            "Data type of num_str: <class 'str'>\n"
          ]
        }
      ],
      "source": [
        "num_int = 123\n",
        "num_str = \"456\"\n",
        "print(\"Data type of num_int:\",type(num_int))\n",
        "print(\"Data type of num_str:\",type(num_str))"
      ]
    },
    {
      "cell_type": "code",
      "execution_count": null,
      "id": "a7227c33",
      "metadata": {
        "id": "a7227c33",
        "outputId": "e2055108-4dbf-40de-9f1d-c0e85089c29b",
        "colab": {
          "base_uri": "https://localhost:8080/"
        }
      },
      "outputs": [
        {
          "output_type": "stream",
          "name": "stdout",
          "text": [
            "Data type of num_int: <class 'int'>\n",
            "Data type of num_str before Type Casting: <class 'str'>\n",
            "Data type of num_str after Type Casting: <class 'int'>\n",
            "Sum of num_int and num_str: 579\n",
            "Data type of the sum: <class 'int'>\n"
          ]
        }
      ],
      "source": [
        "num_int = 123\n",
        "num_str = \"456\"\n",
        "print(\"Data type of num_int:\",type(num_int))\n",
        "print(\"Data type of num_str before Type Casting:\",type(num_str))\n",
        "num_str = int(num_str)\n",
        "print(\"Data type of num_str after Type Casting:\",type(num_str))\n",
        "num_sum = num_int + num_str\n",
        "print(\"Sum of num_int and num_str:\",num_sum)\n",
        "print(\"Data type of the sum:\",type(num_sum))"
      ]
    },
    {
      "cell_type": "code",
      "source": [
        "x = 15\n",
        "y = 4\n",
        "print('x + y =',x+y)\n",
        "print('x y =',x-y)\n",
        "print('x * y =',x*y)\n",
        "print('x / y =',x/y)\n",
        "print('x // y =',x//y)\n",
        "print('x ** y =',x**y)"
      ],
      "metadata": {
        "id": "yAb9IsFNxXFW",
        "outputId": "88d50215-f6cb-4ef2-d0d1-a6c08e0be4f8",
        "colab": {
          "base_uri": "https://localhost:8080/"
        }
      },
      "id": "yAb9IsFNxXFW",
      "execution_count": null,
      "outputs": [
        {
          "output_type": "stream",
          "name": "stdout",
          "text": [
            "x + y = 19\n",
            "x y = 11\n",
            "x * y = 60\n",
            "x / y = 3.75\n",
            "x // y = 3\n",
            "x ** y = 50625\n"
          ]
        }
      ]
    },
    {
      "cell_type": "code",
      "source": [
        "first = 10\n",
        "second = 15\n",
        "print(first+second)\n",
        "first = '100'\n",
        "second = '150'\n",
        "print(first + second)\n",
        "first = 'Test '\n",
        "second = 3\n",
        "print(first * second)"
      ],
      "metadata": {
        "id": "N3VZ5gHDxXCs",
        "outputId": "43e0d12d-db7a-4e59-9b33-aae9d6e85424",
        "colab": {
          "base_uri": "https://localhost:8080/"
        }
      },
      "id": "N3VZ5gHDxXCs",
      "execution_count": null,
      "outputs": [
        {
          "output_type": "stream",
          "name": "stdout",
          "text": [
            "25\n",
            "100150\n",
            "Test Test Test \n"
          ]
        }
      ]
    },
    {
      "cell_type": "code",
      "source": [
        "inp = input(\"Enter a value \")\n",
        "print(inp)"
      ],
      "metadata": {
        "id": "wxbLq053xW_9",
        "outputId": "0d9ac800-319c-493e-9260-9e084f34a4b0",
        "colab": {
          "base_uri": "https://localhost:8080/"
        }
      },
      "id": "wxbLq053xW_9",
      "execution_count": null,
      "outputs": [
        {
          "output_type": "stream",
          "name": "stdout",
          "text": [
            "Enter a value 44\n",
            "44\n"
          ]
        }
      ]
    },
    {
      "cell_type": "code",
      "source": [
        "x = 5\n",
        "y = 10\n",
        "print('The value of x is {} and y is {}'.format(x,y))\n",
        "x = 5\n",
        "y = 10\n",
        "print(f'The value of x is {x} and y is {y}')\n",
        "print('Hello {name}, {greeting}'.format(greeting = 'Goodmorning', name ='John'))\n",
        "\n",
        "a = 5; b=6; c= 10\n",
        "print(f\"The summation of {a},{b}, and {c} =\",a+b+c)"
      ],
      "metadata": {
        "id": "0TDV9MExxW9i",
        "outputId": "fa41b640-1368-49b2-ea06-5b6b0d4ba51e",
        "colab": {
          "base_uri": "https://localhost:8080/"
        }
      },
      "id": "0TDV9MExxW9i",
      "execution_count": null,
      "outputs": [
        {
          "output_type": "stream",
          "name": "stdout",
          "text": [
            "The value of x is 5 and y is 10\n",
            "The value of x is 5 and y is 10\n",
            "Hello John, Goodmorning\n",
            "The summation of 5,6, and 10 = 21\n"
          ]
        }
      ]
    },
    {
      "cell_type": "code",
      "source": [
        "x = 12.3456789\n",
        "print('The value of x is %.2f' %x)\n",
        "print('The value of x is %.4f' %x)\n",
        "round(x,4)"
      ],
      "metadata": {
        "id": "d8Fa1Y18xW65",
        "outputId": "e9352244-5249-4ecd-aefd-7a93286be7ac",
        "colab": {
          "base_uri": "https://localhost:8080/"
        }
      },
      "id": "d8Fa1Y18xW65",
      "execution_count": null,
      "outputs": [
        {
          "output_type": "stream",
          "name": "stdout",
          "text": [
            "The value of x is 12.35\n",
            "The value of x is 12.3457\n"
          ]
        },
        {
          "output_type": "execute_result",
          "data": {
            "text/plain": [
              "12.3457"
            ]
          },
          "metadata": {},
          "execution_count": 18
        }
      ]
    },
    {
      "cell_type": "markdown",
      "id": "b8adb852",
      "metadata": {
        "id": "b8adb852"
      },
      "source": [
        "## Practice Exercise of Experiment-1"
      ]
    },
    {
      "cell_type": "markdown",
      "id": "ffc19f69",
      "metadata": {
        "id": "ffc19f69"
      },
      "source": [
        "### Exercise 1"
      ]
    },
    {
      "cell_type": "code",
      "source": [
        "name = input(\"Enter your name: \")\n",
        "print(\"Hello \" + name)"
      ],
      "metadata": {
        "id": "_p-TeESfzA4W",
        "outputId": "50d8c195-da07-4529-bf49-1cd55cba644a",
        "colab": {
          "base_uri": "https://localhost:8080/"
        }
      },
      "id": "_p-TeESfzA4W",
      "execution_count": null,
      "outputs": [
        {
          "output_type": "stream",
          "name": "stdout",
          "text": [
            "Enter your name: Rakib\n",
            "Hello Rakib\n"
          ]
        }
      ]
    },
    {
      "cell_type": "markdown",
      "source": [
        "### Exercise 2"
      ],
      "metadata": {
        "id": "jcJjJUM30BaV"
      },
      "id": "jcJjJUM30BaV"
    },
    {
      "cell_type": "code",
      "source": [
        "h = float(input (\"Enter Hours: \"))\n",
        "r = float(input (\"Enter Rate: \"))\n",
        "print(f\"pay : {r*h}\")"
      ],
      "metadata": {
        "id": "71bYGa33yyzY",
        "outputId": "9d126343-5da5-4bd0-8b52-ece4c4fd3297",
        "colab": {
          "base_uri": "https://localhost:8080/"
        }
      },
      "id": "71bYGa33yyzY",
      "execution_count": null,
      "outputs": [
        {
          "output_type": "stream",
          "name": "stdout",
          "text": [
            "Enter Hours: 35\n",
            "Enter Rate: 2.75\n",
            "pay : 96.25\n"
          ]
        }
      ]
    },
    {
      "cell_type": "markdown",
      "source": [
        "### Exercise 3"
      ],
      "metadata": {
        "id": "2lP87V4x0Gu1"
      },
      "id": "2lP87V4x0Gu1"
    },
    {
      "cell_type": "code",
      "source": [
        "c = float(input (\"Enter Temperature in Celsius: \"))\n",
        "f = c*(9/5) + 32\n",
        "print(f\"Temparature in Farenheit: {f}\")\n"
      ],
      "metadata": {
        "id": "HbT1ckumyywi",
        "outputId": "17ce1301-5e3a-427d-d143-6b216699e587",
        "colab": {
          "base_uri": "https://localhost:8080/"
        }
      },
      "id": "HbT1ckumyywi",
      "execution_count": null,
      "outputs": [
        {
          "output_type": "stream",
          "name": "stdout",
          "text": [
            "Enter Temperature in Celsius: 35\n",
            "Temparature in Farenheit: 95.0\n"
          ]
        }
      ]
    },
    {
      "cell_type": "markdown",
      "source": [
        "### Exercise 4"
      ],
      "metadata": {
        "id": "jZ8-z1lz0IwO"
      },
      "id": "jZ8-z1lz0IwO"
    },
    {
      "cell_type": "code",
      "source": [
        "import math\n",
        "h = int(input (\"Enter Height: \"))\n",
        "w = int(input (\"Enter Width: \"))\n",
        "# p = sqrt(h*h) + (w*w)\n",
        "print(f\"Area: {w*h}\")\n",
        "print(f\"Diagonal: {math.sqrt(h*h + w*w)}\")\n",
        "print(f\"Perimeter: {2*1(h+w)}\")"
      ],
      "metadata": {
        "id": "WhAJFlobyyt_",
        "outputId": "79c7b12d-93f4-4d31-e045-d0451ae9cafc",
        "colab": {
          "base_uri": "https://localhost:8080/"
        }
      },
      "id": "WhAJFlobyyt_",
      "execution_count": null,
      "outputs": [
        {
          "output_type": "stream",
          "name": "stdout",
          "text": [
            "Enter Height: 10\n",
            "Enter Width: 10\n",
            "Area: 100\n",
            "Diagonal: 14.142135623730951\n",
            "Perimeter: 40\n"
          ]
        }
      ]
    },
    {
      "cell_type": "markdown",
      "source": [
        "### Exercise 5"
      ],
      "metadata": {
        "id": "HMZPykl30ROt"
      },
      "id": "HMZPykl30ROt"
    },
    {
      "cell_type": "code",
      "source": [
        "h = float(input(\"Enter Height: \"))\n",
        "b1 = float(input(\"Enter base 1 value: \"))\n",
        "b2 = float(input(\"Enter base 2 value: \"))\n",
        "\n",
        "# calculate the area of the trapezoid\n",
        "area = (b1 + b) * h / 2\n",
        "\n",
        "# print the result\n",
        "print(\"Area of the trapezoid:\", area)\n"
      ],
      "metadata": {
        "id": "Uqo3sfW9yyrY",
        "outputId": "e1d0e237-ec9e-48ea-d6d4-91338b7dd2db",
        "colab": {
          "base_uri": "https://localhost:8080/"
        }
      },
      "id": "Uqo3sfW9yyrY",
      "execution_count": null,
      "outputs": [
        {
          "output_type": "stream",
          "name": "stdout",
          "text": [
            "Enter Height: 10\n",
            "Enter base 1 value: 10\n",
            "Enter base 2 value: 10\n",
            "Area of the trapezoid: 80.0\n"
          ]
        }
      ]
    },
    {
      "cell_type": "markdown",
      "source": [
        "### Exercise *6*"
      ],
      "metadata": {
        "id": "78nwx9KK0SUM"
      },
      "id": "78nwx9KK0SUM"
    },
    {
      "cell_type": "code",
      "source": [
        "h = float(input(\"Enter Height:\"))\n",
        "r = float(input(\"Enter radius:\"))\n",
        "print(\"volume = \", h*3.1416*r*r)\n",
        "print(\"area= \", (2*3.1416*r*r) + (h*2*3.1416*r))"
      ],
      "metadata": {
        "id": "L5SuT-b5yyo3",
        "outputId": "2398c2b0-04e2-4bcb-cca2-2c15603c9c25",
        "colab": {
          "base_uri": "https://localhost:8080/"
        }
      },
      "id": "L5SuT-b5yyo3",
      "execution_count": null,
      "outputs": [
        {
          "output_type": "stream",
          "name": "stdout",
          "text": [
            "Enter Height:10\n",
            "Enter radius:10\n",
            "volume =  3141.6000000000004\n",
            "area=  1256.64\n"
          ]
        }
      ]
    },
    {
      "cell_type": "markdown",
      "source": [
        "### Exercise 7"
      ],
      "metadata": {
        "id": "8NeY80-70TQl"
      },
      "id": "8NeY80-70TQl"
    },
    {
      "cell_type": "code",
      "source": [
        "import math\n",
        "r = float(input(\"Enter Radius: \"))\n",
        "a = float(input(\"Enter Angle: \"))\n",
        "\n",
        "arc_length = (2 * 3.1416 * r * a) / 360\n",
        "sector_area = (3.1416 * r ** 2 * a) / 360\n",
        "print(\"Arc Length:\", arc_length)\n",
        "print(\"Sector Area:\", sector_area)\n"
      ],
      "metadata": {
        "id": "YC3gu0jnyyl_",
        "outputId": "d98c0efe-3231-41b8-a507-1b71b977cd57",
        "colab": {
          "base_uri": "https://localhost:8080/"
        }
      },
      "id": "YC3gu0jnyyl_",
      "execution_count": null,
      "outputs": [
        {
          "output_type": "stream",
          "name": "stdout",
          "text": [
            "Enter Radius: 10\n",
            "Enter Angle: 10\n",
            "Arc Length: 1.7453333333333334\n",
            "Sector Area: 8.726666666666665\n"
          ]
        }
      ]
    },
    {
      "cell_type": "markdown",
      "source": [
        "*** End of Experiment-1 ***"
      ],
      "metadata": {
        "id": "W0tTuNHeuYSt"
      },
      "id": "W0tTuNHeuYSt"
    },
    {
      "cell_type": "markdown",
      "id": "7caea572",
      "metadata": {
        "id": "7caea572"
      },
      "source": [
        "# Experiment-2"
      ]
    },
    {
      "cell_type": "code",
      "execution_count": null,
      "id": "67b58380",
      "metadata": {
        "id": "67b58380",
        "outputId": "48ab29cd-f822-4e15-de56-4649d655b9ea"
      },
      "outputs": [
        {
          "name": "stdout",
          "output_type": "stream",
          "text": [
            "True\n",
            "False\n",
            "<class 'bool'>\n",
            "<class 'bool'>\n"
          ]
        }
      ],
      "source": [
        "print(5 == 5)\n",
        "print(5 == 6)\n",
        "print(type(True))\n",
        "print(type(False))"
      ]
    },
    {
      "cell_type": "code",
      "execution_count": null,
      "id": "b9eba22b",
      "metadata": {
        "id": "b9eba22b",
        "outputId": "4e17c122-ae15-40fd-cf97-2f0f15f32ce5"
      },
      "outputs": [
        {
          "name": "stdout",
          "output_type": "stream",
          "text": [
            "x > y is False\n",
            "x < y is True\n",
            "x == y is False\n",
            "x != y is True\n",
            "x >= y is False\n",
            "x <= y is True\n",
            "False\n",
            "True\n"
          ]
        }
      ],
      "source": [
        "x = 10\n",
        "y = 12\n",
        "print('x > y is',x>y)\n",
        "print('x < y is',x<y)\n",
        "print('x == y is',x==y)\n",
        "print('x != y is',x!=y)\n",
        "print('x >= y is',x>=y)\n",
        "print('x <= y is',x<=y)\n",
        "print(x is y)\n",
        "print(x is not y)"
      ]
    },
    {
      "cell_type": "code",
      "execution_count": null,
      "id": "5cb28415",
      "metadata": {
        "id": "5cb28415",
        "outputId": "7f383e9e-58db-46ce-8c25-6f94c2b05f6f"
      },
      "outputs": [
        {
          "name": "stdout",
          "output_type": "stream",
          "text": [
            "x and y is False\n",
            "x or y is True\n",
            "not x is False\n"
          ]
        }
      ],
      "source": [
        "x = True\n",
        "y = False\n",
        "print('x and y is',x and y)\n",
        "print('x or y is',x or y)\n",
        "print('not x is',not x)"
      ]
    },
    {
      "cell_type": "code",
      "execution_count": null,
      "id": "a398d732",
      "metadata": {
        "id": "a398d732",
        "outputId": "19cba6a3-b6c8-48b0-d240-b7d301b6b3df"
      },
      "outputs": [
        {
          "name": "stdout",
          "output_type": "stream",
          "text": [
            "False\n",
            "True\n"
          ]
        }
      ],
      "source": [
        "x1 = 5\n",
        "y1 = 5\n",
        "x2 = 'Hello'\n",
        "y2 = 'Hello'\n",
        "# Output: False\n",
        "print(x1 is not y1)\n",
        "# Output: True\n",
        "print(x2 is y2)"
      ]
    },
    {
      "cell_type": "code",
      "execution_count": null,
      "id": "2357fa9c",
      "metadata": {
        "id": "2357fa9c",
        "outputId": "0afda932-af0f-4251-9a06-12bfb37b852a"
      },
      "outputs": [
        {
          "name": "stdout",
          "output_type": "stream",
          "text": [
            "True\n",
            "True\n"
          ]
        }
      ],
      "source": [
        "x = 'Hello world'\n",
        "# Output: True\n",
        "print('H' in x)\n",
        "# Output: True\n",
        "print('hello' not in x)"
      ]
    },
    {
      "cell_type": "code",
      "execution_count": null,
      "id": "cba3ad92",
      "metadata": {
        "id": "cba3ad92",
        "outputId": "68620254-efe2-483d-e569-8da4ed3a082b"
      },
      "outputs": [
        {
          "name": "stdout",
          "output_type": "stream",
          "text": [
            "x is even\n"
          ]
        }
      ],
      "source": [
        "x = 10\n",
        "if x%2 == 0:\n",
        "    print('x is even')\n",
        "else :\n",
        "    print('x is odd')"
      ]
    },
    {
      "cell_type": "code",
      "execution_count": null,
      "id": "6452e30c",
      "metadata": {
        "id": "6452e30c",
        "outputId": "bbf85278-bfb5-4547-87bb-dd977820b06e"
      },
      "outputs": [
        {
          "ename": "SyntaxError",
          "evalue": "EOL while scanning string literal (3741776437.py, line 16)",
          "output_type": "error",
          "traceback": [
            "\u001b[1;36m  File \u001b[1;32m\"C:\\Users\\rakib\\AppData\\Local\\Temp\\ipykernel_16844\\3741776437.py\"\u001b[1;36m, line \u001b[1;32m16\u001b[0m\n\u001b[1;33m    print('Close, but not correct’)\u001b[0m\n\u001b[1;37m                                   ^\u001b[0m\n\u001b[1;31mSyntaxError\u001b[0m\u001b[1;31m:\u001b[0m EOL while scanning string literal\n"
          ]
        }
      ],
      "source": [
        "x = 10\n",
        "y = 15\n",
        "if x < y:\n",
        "    print('x is less than y')\n",
        "elif x > y:\n",
        "    print('x is greater than y')\n",
        "else:\n",
        "    print('x and y are equal')\n",
        "    \n",
        "choice = input(\"Enter your Choice: \")\n",
        "if choice == 'a':\n",
        "    print('Bad guess')\n",
        "elif choice == 'b':\n",
        "    print('Good guess')\n",
        "elif choice == 'c':\n",
        "    print('Close, but not correct’)"
      ]
    },
    {
      "cell_type": "code",
      "execution_count": null,
      "id": "7e36bb21",
      "metadata": {
        "id": "7e36bb21",
        "outputId": "386e7ee8-f5b3-4ab4-d0f1-c16189244881"
      },
      "outputs": [
        {
          "name": "stdout",
          "output_type": "stream",
          "text": [
            "x is less than y\n"
          ]
        }
      ],
      "source": [
        "if x == y:\n",
        "    print('x and y are equal')\n",
        "else:\n",
        "    if x < y:\n",
        "        print('x is less than y')\n",
        "    else:\n",
        "        print('x is greater than y')"
      ]
    },
    {
      "cell_type": "markdown",
      "id": "bfe1b9b6",
      "metadata": {
        "id": "bfe1b9b6"
      },
      "source": [
        "## Practice Exercise of Experiment-2"
      ]
    },
    {
      "cell_type": "markdown",
      "id": "fab72416",
      "metadata": {
        "id": "fab72416"
      },
      "source": [
        "### Exercise 1"
      ]
    },
    {
      "cell_type": "code",
      "execution_count": 2,
      "id": "ec153c0c",
      "metadata": {
        "id": "ec153c0c",
        "outputId": "fd6e17e2-16e9-479e-ffd2-d1d1265e2704",
        "colab": {
          "base_uri": "https://localhost:8080/"
        }
      },
      "outputs": [
        {
          "output_type": "stream",
          "name": "stdout",
          "text": [
            "Enter hours: 45\n",
            "Enter rate: 10\n",
            "Pay: 475.00\n"
          ]
        }
      ],
      "source": [
        "hours = float(input(\"Enter hours: \"))\n",
        "rate = float(input(\"Enter rate: \"))\n",
        "\n",
        "if hours > 40:\n",
        "    overtime_hours = hours - 40\n",
        "    overtime_rate = rate * 1.5\n",
        "    gross_pay = (40 * rate) + (overtime_hours * overtime_rate)\n",
        "else:\n",
        "    gross_pay = hours * rate\n",
        "\n",
        "print(\"Pay: %.2f\" % gross_pay)"
      ]
    },
    {
      "cell_type": "markdown",
      "source": [
        "### Exercise 2"
      ],
      "metadata": {
        "id": "TFgHrMFs_b4t"
      },
      "id": "TFgHrMFs_b4t"
    },
    {
      "cell_type": "code",
      "execution_count": 4,
      "id": "d36051c0",
      "metadata": {
        "id": "d36051c0",
        "outputId": "55f9048d-fad7-4fb9-c21c-06542c412cff",
        "colab": {
          "base_uri": "https://localhost:8080/"
        }
      },
      "outputs": [
        {
          "output_type": "stream",
          "name": "stdout",
          "text": [
            "Enter employee's salary: 5\n",
            "Enter years of service: 7\n",
            "Net bonus amount: 0.25\n"
          ]
        }
      ],
      "source": [
        "salary = float(input(\"Enter employee's salary: \"))\n",
        "years_of_service = int(input(\"Enter years of service: \"))\n",
        "\n",
        "if years_of_service > 5:\n",
        "    net_bonus = 0.05 * salary\n",
        "else:\n",
        "    net_bonus = 0\n",
        "\n",
        "print(\"Net bonus amount: %.2f\" % net_bonus)"
      ]
    },
    {
      "cell_type": "markdown",
      "source": [
        "### Exercise 3"
      ],
      "metadata": {
        "id": "5TP2ZdV-_j-M"
      },
      "id": "5TP2ZdV-_j-M"
    },
    {
      "cell_type": "code",
      "source": [
        "length = float(input(\"Enter the length of the rectangle: \"))\n",
        "breadth = float(input(\"Enter the breadth of the rectangle: \"))\n",
        "\n",
        "if length == breadth:\n",
        "    print(\"The rectangle is a square.\")\n",
        "else:\n",
        "    print(\"The rectangle is not a square.\")\n"
      ],
      "metadata": {
        "id": "HhmCzlvh_iuH",
        "outputId": "b7a98656-deb8-45bb-988c-eba7373c325d",
        "colab": {
          "base_uri": "https://localhost:8080/"
        }
      },
      "id": "HhmCzlvh_iuH",
      "execution_count": 5,
      "outputs": [
        {
          "output_type": "stream",
          "name": "stdout",
          "text": [
            "Enter the length of the rectangle: 4\n",
            "Enter the breadth of the rectangle: 4\n",
            "The rectangle is a square.\n"
          ]
        }
      ]
    },
    {
      "cell_type": "markdown",
      "source": [
        "### Exercise 4\n"
      ],
      "metadata": {
        "id": "Yy-luP43_laT"
      },
      "id": "Yy-luP43_laT"
    },
    {
      "cell_type": "code",
      "source": [
        "num1 = int(input(\"Enter the first integer: \"))\n",
        "num2 = int(input(\"Enter the second integer: \"))\n",
        "if num1 > num2:\n",
        "    greatest = num1\n",
        "else:\n",
        "    greatest = num2\n",
        "print(\"The greatest number is:\", greatest)"
      ],
      "metadata": {
        "id": "p-l_R-oL_ipZ",
        "outputId": "0f1732f8-84a8-4cb0-9e95-c2ae743bc321",
        "colab": {
          "base_uri": "https://localhost:8080/"
        }
      },
      "id": "p-l_R-oL_ipZ",
      "execution_count": 6,
      "outputs": [
        {
          "output_type": "stream",
          "name": "stdout",
          "text": [
            "Enter the first integer: 10\n",
            "Enter the second integer: 4\n",
            "The greatest number is: 10\n"
          ]
        }
      ]
    },
    {
      "cell_type": "markdown",
      "source": [
        "### Exercise 5"
      ],
      "metadata": {
        "id": "iH-9K23S_mkU"
      },
      "id": "iH-9K23S_mkU"
    },
    {
      "cell_type": "code",
      "source": [
        "quantity = int(input(\"Enter the quantity of units: \"))\n",
        "cost_per_unit = 100\n",
        "total_cost = quantity * cost_per_unit\n",
        "if total_cost > 1000:\n",
        "    discount = 0.1 * total_cost\n",
        "    total_cost -= discount\n",
        "print(\"Total cost: %.2f\" % total_cost)"
      ],
      "metadata": {
        "id": "-r1G-sri_iku",
        "outputId": "e30c0f2a-3a48-4e03-8bd4-250b9c8e31a2",
        "colab": {
          "base_uri": "https://localhost:8080/"
        }
      },
      "id": "-r1G-sri_iku",
      "execution_count": 7,
      "outputs": [
        {
          "output_type": "stream",
          "name": "stdout",
          "text": [
            "Enter the quantity of units: 54\n",
            "Total cost: 4860.00\n"
          ]
        }
      ]
    },
    {
      "cell_type": "markdown",
      "source": [
        "### Exercise 6"
      ],
      "metadata": {
        "id": "tIqyQwZu_n-N"
      },
      "id": "tIqyQwZu_n-N"
    },
    {
      "cell_type": "code",
      "source": [
        "marks = float(input(\"Enter the student's marks: \"))\n",
        "\n",
        "if marks < 25:\n",
        "    grade = 'F'\n",
        "elif marks >= 25 and marks < 45:\n",
        "    grade = 'E'\n",
        "elif marks >= 45 and marks < 50:\n",
        "    grade = 'D'\n",
        "elif marks >= 50 and marks < 60:\n",
        "    grade = 'C'\n",
        "elif marks >= 60 and marks < 80:\n",
        "    grade = 'B'\n",
        "else:\n",
        "    grade = 'A'\n",
        "print(\"The student's grade is:\", grade)"
      ],
      "metadata": {
        "id": "1UXTU9Xc_igN",
        "outputId": "283cb433-cd4f-4677-affe-df735b0fe2ef",
        "colab": {
          "base_uri": "https://localhost:8080/"
        }
      },
      "id": "1UXTU9Xc_igN",
      "execution_count": 8,
      "outputs": [
        {
          "output_type": "stream",
          "name": "stdout",
          "text": [
            "Enter the student's marks: 45\n",
            "The student's grade is: D\n"
          ]
        }
      ]
    },
    {
      "cell_type": "markdown",
      "source": [
        "### Exercise 7"
      ],
      "metadata": {
        "id": "yuluL5Sm_pKS"
      },
      "id": "yuluL5Sm_pKS"
    },
    {
      "cell_type": "code",
      "execution_count": 10,
      "id": "2aa8ec6b",
      "metadata": {
        "id": "2aa8ec6b",
        "outputId": "ec603fe9-7a68-4516-f473-b060be925d71",
        "colab": {
          "base_uri": "https://localhost:8080/"
        }
      },
      "outputs": [
        {
          "output_type": "stream",
          "name": "stdout",
          "text": [
            "Enter the age of the first person: 10\n",
            "Enter the age of the second person: 45\n",
            "Enter the age of the third person: 7\n",
            "The oldest person is 45 years old.\n",
            "The youngest person is 7 years old.\n"
          ]
        }
      ],
      "source": [
        "age1 = int(input(\"Enter the age of the first person: \"))\n",
        "age2 = int(input(\"Enter the age of the second person: \"))\n",
        "age3 = int(input(\"Enter the age of the third person: \"))\n",
        "\n",
        "oldest = max(age1, age2, age3)\n",
        "youngest = min(age1, age2, age3)\n",
        "print(\"The oldest person is\", oldest, \"years old.\")\n",
        "print(\"The youngest person is\", youngest, \"years old.\")\n"
      ]
    },
    {
      "cell_type": "markdown",
      "source": [
        "### Exercise 8"
      ],
      "metadata": {
        "id": "KyqNRtZS_qP8"
      },
      "id": "KyqNRtZS_qP8"
    },
    {
      "cell_type": "code",
      "execution_count": 11,
      "id": "51a22b0d",
      "metadata": {
        "id": "51a22b0d",
        "outputId": "b9e10745-2300-4095-f3bf-db6587b1cbc8",
        "colab": {
          "base_uri": "https://localhost:8080/"
        }
      },
      "outputs": [
        {
          "output_type": "stream",
          "name": "stdout",
          "text": [
            "Enter the number of classes held: 4\n",
            "Enter the number of classes attended: 2\n",
            "The percentage of attendance is: 50.0\n",
            "The student is not allowed to sit in the exam.\n"
          ]
        }
      ],
      "source": [
        "num_classes_held = int(input(\"Enter the number of classes held: \"))\n",
        "num_classes_attended = int(input(\"Enter the number of classes attended: \"))\n",
        "attendance_percentage = (num_classes_attended / num_classes_held) * 100\n",
        "print(\"The percentage of attendance is:\", attendance_percentage)\n",
        "if attendance_percentage >= 75:\n",
        "    print(\"The student is allowed to sit in the exam.\")\n",
        "else:\n",
        "    print(\"The student is not allowed to sit in the exam.\")\n"
      ]
    },
    {
      "cell_type": "markdown",
      "source": [
        "### Exercise 9"
      ],
      "metadata": {
        "id": "F6q_10vQ_rdU"
      },
      "id": "F6q_10vQ_rdU"
    },
    {
      "cell_type": "code",
      "source": [
        "num_classes_held = int(input(\"Enter the number of classes held: \"))\n",
        "num_classes_attended = int(input(\"Enter the number of classes attended: \"))\n",
        "has_medical_cause = input(\"Do you have a medical cause? (Y/N): \")\n",
        "\n",
        "attendance_percentage = (num_classes_attended / num_classes_held) * 100\n",
        "\n",
        "print(\"The percentage of attendance is:\", attendance_percentage)\n",
        "\n",
        "if attendance_percentage >= 75:\n",
        "    print(\"The student is allowed to sit in the exam.\")\n",
        "else:\n",
        "    if has_medical_cause.upper() == 'Y':\n",
        "        print(\"The student is allowed to sit in the exam due to a medical cause.\")\n",
        "    else:\n",
        "        print(\"The student is not allowed to sit in the exam.\")\n"
      ],
      "metadata": {
        "id": "zbDdLEyo_tmc",
        "outputId": "1d56bfa7-cd45-4a9e-ca71-2a7d65cfa6bd",
        "colab": {
          "base_uri": "https://localhost:8080/"
        }
      },
      "id": "zbDdLEyo_tmc",
      "execution_count": 12,
      "outputs": [
        {
          "output_type": "stream",
          "name": "stdout",
          "text": [
            "Enter the number of classes held: 10\n",
            "Enter the number of classes attended: 7\n",
            "Do you have a medical cause? (Y/N): Y\n",
            "The percentage of attendance is: 70.0\n",
            "The student is allowed to sit in the exam due to a medical cause.\n"
          ]
        }
      ]
    },
    {
      "cell_type": "markdown",
      "source": [
        "### Exercise 10"
      ],
      "metadata": {
        "id": "aA28Wdnp_t-9"
      },
      "id": "aA28Wdnp_t-9"
    },
    {
      "cell_type": "code",
      "execution_count": 13,
      "id": "a6518983",
      "metadata": {
        "id": "a6518983",
        "outputId": "8aa238c2-fc74-45b7-f59d-f77c59a93c51",
        "colab": {
          "base_uri": "https://localhost:8080/"
        }
      },
      "outputs": [
        {
          "output_type": "stream",
          "name": "stdout",
          "text": [
            "Enter the first number: 41\n",
            "Enter the second number: 12\n",
            "Enter the third number: 41\n",
            "Numbers in ascending order: 12.0 41.0 41.0\n",
            "Numbers in descending order: 41.0 41.0 12.0\n"
          ]
        }
      ],
      "source": [
        "num1 = float(input(\"Enter the first number: \"))\n",
        "num2 = float(input(\"Enter the second number: \"))\n",
        "num3 = float(input(\"Enter the third number: \"))\n",
        "\n",
        "if num1 <= num2 and num1 <= num3:\n",
        "    smallest = num1\n",
        "    if num2 <= num3:\n",
        "        middle = num2\n",
        "        largest = num3\n",
        "    else:\n",
        "        middle = num3\n",
        "        largest = num2\n",
        "elif num2 <= num1 and num2 <= num3:\n",
        "    smallest = num2\n",
        "    if num1 <= num3:\n",
        "        middle = num1\n",
        "        largest = num3\n",
        "    else:\n",
        "        middle = num3\n",
        "        largest = num1\n",
        "else:\n",
        "    smallest = num3\n",
        "    if num1 <= num2:\n",
        "        middle = num1\n",
        "        largest = num2\n",
        "    else:\n",
        "        middle = num2\n",
        "        largest = num1\n",
        "\n",
        "print(\"Numbers in ascending order:\", smallest, middle, largest)\n",
        "\n",
        "if num1 >= num2 and num1 >= num3:\n",
        "    largest = num1\n",
        "    if num2 >= num3:\n",
        "        middle = num2\n",
        "        smallest = num3\n",
        "    else:\n",
        "        middle = num3\n",
        "        smallest = num2\n",
        "elif num2 >= num1 and num2 >= num3:\n",
        "    largest = num2\n",
        "    if num1 >= num3:\n",
        "        middle = num1\n",
        "        smallest = num3\n",
        "    else:\n",
        "        middle = num3\n",
        "        smallest = num1\n",
        "else:\n",
        "    largest = num3\n",
        "    if num1 >= num2:\n",
        "        middle = num1\n",
        "        smallest = num2\n",
        "    else:\n",
        "        middle = num2\n",
        "        smallest = num1\n",
        "print(\"Numbers in descending order:\", largest, middle, smallest)\n"
      ]
    },
    {
      "cell_type": "markdown",
      "source": [
        "*** End of Experiment-2 ***"
      ],
      "metadata": {
        "id": "Ss8YSyBmBYtk"
      },
      "id": "Ss8YSyBmBYtk"
    },
    {
      "cell_type": "markdown",
      "source": [
        "# Experiment-3"
      ],
      "metadata": {
        "id": "pgXMv2w_BdC0"
      },
      "id": "pgXMv2w_BdC0"
    },
    {
      "cell_type": "code",
      "source": [],
      "metadata": {
        "id": "QOpAQ1LYBfjA"
      },
      "id": "QOpAQ1LYBfjA",
      "execution_count": null,
      "outputs": []
    }
  ],
  "metadata": {
    "kernelspec": {
      "display_name": "Python 3 (ipykernel)",
      "language": "python",
      "name": "python3"
    },
    "language_info": {
      "codemirror_mode": {
        "name": "ipython",
        "version": 3
      },
      "file_extension": ".py",
      "mimetype": "text/x-python",
      "name": "python",
      "nbconvert_exporter": "python",
      "pygments_lexer": "ipython3",
      "version": "3.9.13"
    },
    "colab": {
      "provenance": []
    }
  },
  "nbformat": 4,
  "nbformat_minor": 5
}